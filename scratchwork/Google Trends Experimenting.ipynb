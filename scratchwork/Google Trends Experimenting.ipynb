{
 "cells": [
  {
   "cell_type": "markdown",
   "metadata": {},
   "source": [
    "## Install & Import pytrends package"
   ]
  },
  {
   "cell_type": "markdown",
   "metadata": {},
   "source": [
    "https://pypi.org/project/pytrends/"
   ]
  },
  {
   "cell_type": "code",
   "execution_count": 38,
   "metadata": {},
   "outputs": [],
   "source": [
    "import pandas as pd           \n",
    "import matplotlib.pyplot as plt\n",
    "from pytrends.request import TrendReq"
   ]
  },
  {
   "cell_type": "markdown",
   "metadata": {},
   "source": [
    "Connect to google"
   ]
  },
  {
   "cell_type": "code",
   "execution_count": 29,
   "metadata": {},
   "outputs": [],
   "source": [
    "pytrend = TrendReq(hl='en-US', tz=480)\n",
    "\n",
    "# tz is time zone offset. 480 is PST"
   ]
  },
  {
   "cell_type": "markdown",
   "metadata": {},
   "source": [
    "### Experimentation & Quick Examples"
   ]
  },
  {
   "cell_type": "markdown",
   "metadata": {},
   "source": [
    "Interest by region"
   ]
  },
  {
   "cell_type": "code",
   "execution_count": 63,
   "metadata": {
    "scrolled": false
   },
   "outputs": [
    {
     "data": {
      "text/html": [
       "<div>\n",
       "<style scoped>\n",
       "    .dataframe tbody tr th:only-of-type {\n",
       "        vertical-align: middle;\n",
       "    }\n",
       "\n",
       "    .dataframe tbody tr th {\n",
       "        vertical-align: top;\n",
       "    }\n",
       "\n",
       "    .dataframe thead th {\n",
       "        text-align: right;\n",
       "    }\n",
       "</style>\n",
       "<table border=\"1\" class=\"dataframe\">\n",
       "  <thead>\n",
       "    <tr style=\"text-align: right;\">\n",
       "      <th></th>\n",
       "      <th>Taylor Swift</th>\n",
       "    </tr>\n",
       "    <tr>\n",
       "      <th>geoName</th>\n",
       "      <th></th>\n",
       "    </tr>\n",
       "  </thead>\n",
       "  <tbody>\n",
       "    <tr>\n",
       "      <th>Afghanistan</th>\n",
       "      <td>0</td>\n",
       "    </tr>\n",
       "    <tr>\n",
       "      <th>Albania</th>\n",
       "      <td>0</td>\n",
       "    </tr>\n",
       "    <tr>\n",
       "      <th>Algeria</th>\n",
       "      <td>15</td>\n",
       "    </tr>\n",
       "    <tr>\n",
       "      <th>American Samoa</th>\n",
       "      <td>0</td>\n",
       "    </tr>\n",
       "    <tr>\n",
       "      <th>Andorra</th>\n",
       "      <td>0</td>\n",
       "    </tr>\n",
       "    <tr>\n",
       "      <th>Angola</th>\n",
       "      <td>0</td>\n",
       "    </tr>\n",
       "    <tr>\n",
       "      <th>Anguilla</th>\n",
       "      <td>0</td>\n",
       "    </tr>\n",
       "    <tr>\n",
       "      <th>Antarctica</th>\n",
       "      <td>0</td>\n",
       "    </tr>\n",
       "    <tr>\n",
       "      <th>Antigua &amp; Barbuda</th>\n",
       "      <td>0</td>\n",
       "    </tr>\n",
       "    <tr>\n",
       "      <th>Argentina</th>\n",
       "      <td>18</td>\n",
       "    </tr>\n",
       "    <tr>\n",
       "      <th>Armenia</th>\n",
       "      <td>0</td>\n",
       "    </tr>\n",
       "    <tr>\n",
       "      <th>Aruba</th>\n",
       "      <td>0</td>\n",
       "    </tr>\n",
       "    <tr>\n",
       "      <th>Australia</th>\n",
       "      <td>60</td>\n",
       "    </tr>\n",
       "    <tr>\n",
       "      <th>Austria</th>\n",
       "      <td>17</td>\n",
       "    </tr>\n",
       "    <tr>\n",
       "      <th>Azerbaijan</th>\n",
       "      <td>0</td>\n",
       "    </tr>\n",
       "    <tr>\n",
       "      <th>Bahamas</th>\n",
       "      <td>0</td>\n",
       "    </tr>\n",
       "    <tr>\n",
       "      <th>Bahrain</th>\n",
       "      <td>0</td>\n",
       "    </tr>\n",
       "    <tr>\n",
       "      <th>Bangladesh</th>\n",
       "      <td>23</td>\n",
       "    </tr>\n",
       "    <tr>\n",
       "      <th>Barbados</th>\n",
       "      <td>0</td>\n",
       "    </tr>\n",
       "    <tr>\n",
       "      <th>Belarus</th>\n",
       "      <td>0</td>\n",
       "    </tr>\n",
       "  </tbody>\n",
       "</table>\n",
       "</div>"
      ],
      "text/plain": [
       "                   Taylor Swift\n",
       "geoName                        \n",
       "Afghanistan                   0\n",
       "Albania                       0\n",
       "Algeria                      15\n",
       "American Samoa                0\n",
       "Andorra                       0\n",
       "Angola                        0\n",
       "Anguilla                      0\n",
       "Antarctica                    0\n",
       "Antigua & Barbuda             0\n",
       "Argentina                    18\n",
       "Armenia                       0\n",
       "Aruba                         0\n",
       "Australia                    60\n",
       "Austria                      17\n",
       "Azerbaijan                    0\n",
       "Bahamas                       0\n",
       "Bahrain                       0\n",
       "Bangladesh                   23\n",
       "Barbados                      0\n",
       "Belarus                       0"
      ]
     },
     "execution_count": 63,
     "metadata": {},
     "output_type": "execute_result"
    }
   ],
   "source": [
    "pytrend.build_payload(kw_list=['Taylor Swift'])\n",
    "\n",
    "# Interest by Region\n",
    "df = pytrend.interest_by_region()\n",
    "df = df.head(20)\n",
    "df"
   ]
  },
  {
   "cell_type": "code",
   "execution_count": 64,
   "metadata": {},
   "outputs": [
    {
     "data": {
      "text/plain": [
       "<matplotlib.axes._subplots.AxesSubplot at 0x11da2f6d8>"
      ]
     },
     "execution_count": 64,
     "metadata": {},
     "output_type": "execute_result"
    },
    {
     "data": {
      "image/png": "[encoded data removed]",
      "text/plain": [
       "<Figure size 864x720 with 1 Axes>"
      ]
     },
     "metadata": {
      "needs_background": "light"
     },
     "output_type": "display_data"
    }
   ],
   "source": [
    "df.reset_index().plot(x='geoName', y='Taylor Swift', figsize=(12, 10), kind ='bar')"
   ]
  },
  {
   "cell_type": "markdown",
   "metadata": {},
   "source": [
    "Search daily trends"
   ]
  },
  {
   "cell_type": "code",
   "execution_count": 26,
   "metadata": {
    "scrolled": true
   },
   "outputs": [
    {
     "data": {
      "text/html": [
       "<div>\n",
       "<style scoped>\n",
       "    .dataframe tbody tr th:only-of-type {\n",
       "        vertical-align: middle;\n",
       "    }\n",
       "\n",
       "    .dataframe tbody tr th {\n",
       "        vertical-align: top;\n",
       "    }\n",
       "\n",
       "    .dataframe thead th {\n",
       "        text-align: right;\n",
       "    }\n",
       "</style>\n",
       "<table border=\"1\" class=\"dataframe\">\n",
       "  <thead>\n",
       "    <tr style=\"text-align: right;\">\n",
       "      <th></th>\n",
       "      <th>0</th>\n",
       "    </tr>\n",
       "  </thead>\n",
       "  <tbody>\n",
       "    <tr>\n",
       "      <th>0</th>\n",
       "      <td>Betty Wright</td>\n",
       "    </tr>\n",
       "    <tr>\n",
       "      <th>1</th>\n",
       "      <td>Fauci</td>\n",
       "    </tr>\n",
       "    <tr>\n",
       "      <th>2</th>\n",
       "      <td>Father's Day</td>\n",
       "    </tr>\n",
       "    <tr>\n",
       "      <th>3</th>\n",
       "      <td>Mother's Day images</td>\n",
       "    </tr>\n",
       "    <tr>\n",
       "      <th>4</th>\n",
       "      <td>Mother's Day message</td>\n",
       "    </tr>\n",
       "  </tbody>\n",
       "</table>\n",
       "</div>"
      ],
      "text/plain": [
       "                      0\n",
       "0          Betty Wright\n",
       "1                 Fauci\n",
       "2          Father's Day\n",
       "3   Mother's Day images\n",
       "4  Mother's Day message"
      ]
     },
     "execution_count": 26,
     "metadata": {},
     "output_type": "execute_result"
    }
   ],
   "source": [
    "# Get Google Hot Trends data\n",
    "df = pytrend.trending_searches(pn='united_states')\n",
    "df.head()"
   ]
  },
  {
   "cell_type": "markdown",
   "metadata": {},
   "source": [
    "Get just today's trending searches"
   ]
  },
  {
   "cell_type": "code",
   "execution_count": 11,
   "metadata": {},
   "outputs": [
    {
     "data": {
      "text/html": [
       "<div>\n",
       "<style scoped>\n",
       "    .dataframe tbody tr th:only-of-type {\n",
       "        vertical-align: middle;\n",
       "    }\n",
       "\n",
       "    .dataframe tbody tr th {\n",
       "        vertical-align: top;\n",
       "    }\n",
       "\n",
       "    .dataframe thead th {\n",
       "        text-align: right;\n",
       "    }\n",
       "</style>\n",
       "<table border=\"1\" class=\"dataframe\">\n",
       "  <thead>\n",
       "    <tr style=\"text-align: right;\">\n",
       "      <th></th>\n",
       "      <th>query</th>\n",
       "    </tr>\n",
       "  </thead>\n",
       "  <tbody>\n",
       "    <tr>\n",
       "      <th>0</th>\n",
       "      <td>Betty Wright</td>\n",
       "    </tr>\n",
       "    <tr>\n",
       "      <th>1</th>\n",
       "      <td>Fauci</td>\n",
       "    </tr>\n",
       "    <tr>\n",
       "      <th>2</th>\n",
       "      <td>Father's Day</td>\n",
       "    </tr>\n",
       "    <tr>\n",
       "      <th>3</th>\n",
       "      <td>Mother's Day images</td>\n",
       "    </tr>\n",
       "    <tr>\n",
       "      <th>4</th>\n",
       "      <td>Mother's Day message</td>\n",
       "    </tr>\n",
       "    <tr>\n",
       "      <th>5</th>\n",
       "      <td>Joe Rogan</td>\n",
       "    </tr>\n",
       "    <tr>\n",
       "      <th>6</th>\n",
       "      <td>Kristi Noem</td>\n",
       "    </tr>\n",
       "  </tbody>\n",
       "</table>\n",
       "</div>"
      ],
      "text/plain": [
       "                  query\n",
       "0          Betty Wright\n",
       "1                 Fauci\n",
       "2          Father's Day\n",
       "3   Mother's Day images\n",
       "4  Mother's Day message\n",
       "5             Joe Rogan\n",
       "6           Kristi Noem"
      ]
     },
     "execution_count": 11,
     "metadata": {},
     "output_type": "execute_result"
    }
   ],
   "source": [
    "df = pytrend.today_searches(pn='US')\n",
    "pd.DataFrame(df)"
   ]
  },
  {
   "cell_type": "markdown",
   "metadata": {},
   "source": [
    "Find related queries"
   ]
  },
  {
   "cell_type": "code",
   "execution_count": 21,
   "metadata": {},
   "outputs": [
    {
     "data": {
      "text/plain": [
       "dict_values([{'top':                             query  value\n",
       "0              coronavirus update    100\n",
       "1               coronavirus cases     71\n",
       "2                news coronavirus     66\n",
       "3                          corona     63\n",
       "4   thank you coronavirus helpers     49\n",
       "5            coronavirus symptoms     47\n",
       "6               coronavirus india     46\n",
       "7                  coronavirus uk     46\n",
       "8                coronavirus tips     45\n",
       "9                  uk coronavirus     45\n",
       "10                coronavirus map     35\n",
       "11                   corona virus     31\n",
       "12                coronavirus usa     30\n",
       "13             coronavirus italia     29\n",
       "14             coronavirus france     28\n",
       "15              china coronavirus     28\n",
       "16              coronavirus china     27\n",
       "17                 coronavirus us     27\n",
       "18              world coronavirus     26\n",
       "19               live coronavirus     25\n",
       "20             coronavirus españa     24\n",
       "21              italy coronavirus     22\n",
       "22             coronavirus deaths     21\n",
       "23           coronavirus in india     20\n",
       "24                       covid 19     19, 'rising':                                                 query   value\n",
       "0                       thank you coronavirus helpers  257250\n",
       "1                                    coronavirus tips  239400\n",
       "2                                  coronavirus italia  153950\n",
       "3                                            covid 19  102050\n",
       "4                             worldometer coronavirus   79250\n",
       "5                                   coronavirus stats   54400\n",
       "6                             india coronavirus cases   39450\n",
       "7                               coronavirus no brasil   37150\n",
       "8                                us coronavirus cases   36650\n",
       "9                             coronavirus live update   36100\n",
       "10                           coronavirus update india   36000\n",
       "11                           coronavirus india update   35650\n",
       "12                                   coronavirus ohio   34500\n",
       "13                                 coronavirus africa   33750\n",
       "14  merci à tous ceux qui aident à combattre le co...   33600\n",
       "15                                           covid-19   31550\n",
       "16                               coronavirus michigan   29650\n",
       "17                           john hopkins coronavirus   29300\n",
       "18                                 italie coronavirus   29200\n",
       "19                                  wuhan coronavirus   29150\n",
       "20                              coronavirus en españa   29100\n",
       "21                         coronavirus ultime notizie   28050\n",
       "22                         coronavirus cases in india   27500\n",
       "23                              coronavirus worldwide   26850\n",
       "24                                   coronavirus peru   25300}])"
      ]
     },
     "execution_count": 21,
     "metadata": {},
     "output_type": "execute_result"
    }
   ],
   "source": [
    "pytrend.build_payload(kw_list=['Coronavirus'])\n",
    "\n",
    "# Related Queries, returns a dictionary of dataframes\n",
    "related_queries = pytrend.related_queries()\n",
    "related_queries.values()"
   ]
  },
  {
   "cell_type": "code",
   "execution_count": 23,
   "metadata": {
    "scrolled": true
   },
   "outputs": [
    {
     "data": {
      "text/plain": [
       "dict_values([{'rising':     value formattedValue                                            link  \\\n",
       "0  111000       Breakout  /trends/explore?q=/g/11ckxx4f1g&date=today+5-y   \n",
       "1   54650       Breakout      /trends/explore?q=/m/018xnw&date=today+5-y   \n",
       "2   51550       Breakout       /trends/explore?q=/m/09kvv&date=today+5-y   \n",
       "3   49300       Breakout    /trends/explore?q=/g/1tfkwsf1&date=today+5-y   \n",
       "4   31700       Breakout       /trends/explore?q=/m/0l3cy&date=today+5-y   \n",
       "5   19450       Breakout       /trends/explore?q=/m/0bzty&date=today+5-y   \n",
       "6    2000        +2,000%       /trends/explore?q=/m/03rjj&date=today+5-y   \n",
       "7    1850        +1,850%       /trends/explore?q=/m/06mnr&date=today+5-y   \n",
       "8     900          +900%      /trends/explore?q=/m/0222qb&date=today+5-y   \n",
       "9     900          +900%       /trends/explore?q=/m/06mkj&date=today+5-y   \n",
       "\n",
       "       topic_mid               topic_title  \\\n",
       "0  /g/11ckxx4f1g              Worldometers   \n",
       "1      /m/018xnw                     Cubit   \n",
       "2       /m/09kvv  Johns Hopkins University   \n",
       "3    /g/1tfkwsf1                     Covid   \n",
       "4       /m/0l3cy                     Wuhan   \n",
       "5       /m/0bzty                  Lombardy   \n",
       "6       /m/03rjj                     Italy   \n",
       "7       /m/06mnr                Statistics   \n",
       "8      /m/0222qb            Italian people   \n",
       "9       /m/06mkj                     Spain   \n",
       "\n",
       "                                   topic_type  \n",
       "0                                     Website  \n",
       "1                                       Topic  \n",
       "2   Private university in Baltimore, Maryland  \n",
       "3  Electronics manufacturer in Tempe, Arizona  \n",
       "4                               City in China  \n",
       "5                              Italian region  \n",
       "6                           Country in Europe  \n",
       "7                                  Discipline  \n",
       "8                                Ethnic group  \n",
       "9                                     Country  , 'top':     value formattedValue  hasData  \\\n",
       "0     100            100     True   \n",
       "1       5              5     True   \n",
       "2       3              3     True   \n",
       "3       3              3     True   \n",
       "4       2              2     True   \n",
       "5       2              2     True   \n",
       "6       2              2     True   \n",
       "7       1              1     True   \n",
       "8       1              1     True   \n",
       "9       1              1     True   \n",
       "10      1              1     True   \n",
       "11      1              1     True   \n",
       "12      1              1     True   \n",
       "13      1              1     True   \n",
       "14      0             <1     True   \n",
       "15      0             <1     True   \n",
       "\n",
       "                                              link      topic_mid  \\\n",
       "0       /trends/explore?q=/m/01cpyy&date=today+5-y      /m/01cpyy   \n",
       "1       /trends/explore?q=/m/01b_06&date=today+5-y      /m/01b_06   \n",
       "2        /trends/explore?q=/m/03rjj&date=today+5-y       /m/03rjj   \n",
       "3        /trends/explore?q=/m/0g9pc&date=today+5-y       /m/0g9pc   \n",
       "4       /trends/explore?q=/m/05d6yp&date=today+5-y      /m/05d6yp   \n",
       "5       /trends/explore?q=/m/0222qb&date=today+5-y      /m/0222qb   \n",
       "6        /trends/explore?q=/m/06mkj&date=today+5-y       /m/06mkj   \n",
       "7        /trends/explore?q=/m/06mnr&date=today+5-y       /m/06mnr   \n",
       "8   /trends/explore?q=/g/11ckxx4f1g&date=today+5-y  /g/11ckxx4f1g   \n",
       "9        /trends/explore?q=/m/098s1&date=today+5-y       /m/098s1   \n",
       "10       /trends/explore?q=/m/07__7&date=today+5-y       /m/07__7   \n",
       "11      /trends/explore?q=/m/018xnw&date=today+5-y      /m/018xnw   \n",
       "12       /trends/explore?q=/m/09kvv&date=today+5-y       /m/09kvv   \n",
       "13    /trends/explore?q=/g/1tfkwsf1&date=today+5-y    /g/1tfkwsf1   \n",
       "14       /trends/explore?q=/m/0l3cy&date=today+5-y       /m/0l3cy   \n",
       "15       /trends/explore?q=/m/0bzty&date=today+5-y       /m/0bzty   \n",
       "\n",
       "                 topic_title                                  topic_type  \n",
       "0                Coronavirus                                       Virus  \n",
       "1                    Symptom                                       Topic  \n",
       "2                      Italy                           Country in Europe  \n",
       "3                      Virus                            Infectious agent  \n",
       "4              Coronaviridae                                       Virus  \n",
       "5             Italian people                                Ethnic group  \n",
       "6                      Spain                                     Country  \n",
       "7                 Statistics                                  Discipline  \n",
       "8               Worldometers                                     Website  \n",
       "9                  Infection                                     Disease  \n",
       "10                   Vaccine                                       Topic  \n",
       "11                     Cubit                                       Topic  \n",
       "12  Johns Hopkins University   Private university in Baltimore, Maryland  \n",
       "13                     Covid  Electronics manufacturer in Tempe, Arizona  \n",
       "14                     Wuhan                               City in China  \n",
       "15                  Lombardy                              Italian region  }])"
      ]
     },
     "execution_count": 23,
     "metadata": {},
     "output_type": "execute_result"
    }
   ],
   "source": [
    "pytrend.build_payload(kw_list=['Coronavirus'])\n",
    "\n",
    "# Related Topics, returns a dictionary of dataframes\n",
    "related_topic = pytrend.related_topics()\n",
    "related_topic.values()"
   ]
  },
  {
   "cell_type": "markdown",
   "metadata": {},
   "source": [
    "### Building a payload"
   ]
  },
  {
   "cell_type": "code",
   "execution_count": 34,
   "metadata": {},
   "outputs": [],
   "source": [
    "kw_list = [\"Blockchain\", \"coronavirus\"]\n",
    "pytrend.build_payload(kw_list, cat=0, timeframe='2020-01-01 2020-05-22', geo='', gprop='')"
   ]
  },
  {
   "cell_type": "code",
   "execution_count": 41,
   "metadata": {
    "scrolled": true
   },
   "outputs": [
    {
     "data": {
      "text/html": [
       "<div>\n",
       "<style scoped>\n",
       "    .dataframe tbody tr th:only-of-type {\n",
       "        vertical-align: middle;\n",
       "    }\n",
       "\n",
       "    .dataframe tbody tr th {\n",
       "        vertical-align: top;\n",
       "    }\n",
       "\n",
       "    .dataframe thead th {\n",
       "        text-align: right;\n",
       "    }\n",
       "</style>\n",
       "<table border=\"1\" class=\"dataframe\">\n",
       "  <thead>\n",
       "    <tr style=\"text-align: right;\">\n",
       "      <th></th>\n",
       "      <th>Blockchain</th>\n",
       "      <th>coronavirus</th>\n",
       "      <th>isPartial</th>\n",
       "    </tr>\n",
       "    <tr>\n",
       "      <th>date</th>\n",
       "      <th></th>\n",
       "      <th></th>\n",
       "      <th></th>\n",
       "    </tr>\n",
       "  </thead>\n",
       "  <tbody>\n",
       "    <tr>\n",
       "      <th>2020-01-01</th>\n",
       "      <td>0</td>\n",
       "      <td>0</td>\n",
       "      <td>False</td>\n",
       "    </tr>\n",
       "    <tr>\n",
       "      <th>2020-01-02</th>\n",
       "      <td>0</td>\n",
       "      <td>0</td>\n",
       "      <td>False</td>\n",
       "    </tr>\n",
       "    <tr>\n",
       "      <th>2020-01-03</th>\n",
       "      <td>0</td>\n",
       "      <td>0</td>\n",
       "      <td>False</td>\n",
       "    </tr>\n",
       "    <tr>\n",
       "      <th>2020-01-04</th>\n",
       "      <td>0</td>\n",
       "      <td>0</td>\n",
       "      <td>False</td>\n",
       "    </tr>\n",
       "    <tr>\n",
       "      <th>2020-01-05</th>\n",
       "      <td>0</td>\n",
       "      <td>0</td>\n",
       "      <td>False</td>\n",
       "    </tr>\n",
       "    <tr>\n",
       "      <th>...</th>\n",
       "      <td>...</td>\n",
       "      <td>...</td>\n",
       "      <td>...</td>\n",
       "    </tr>\n",
       "    <tr>\n",
       "      <th>2020-05-04</th>\n",
       "      <td>0</td>\n",
       "      <td>25</td>\n",
       "      <td>False</td>\n",
       "    </tr>\n",
       "    <tr>\n",
       "      <th>2020-05-05</th>\n",
       "      <td>0</td>\n",
       "      <td>24</td>\n",
       "      <td>False</td>\n",
       "    </tr>\n",
       "    <tr>\n",
       "      <th>2020-05-06</th>\n",
       "      <td>0</td>\n",
       "      <td>24</td>\n",
       "      <td>False</td>\n",
       "    </tr>\n",
       "    <tr>\n",
       "      <th>2020-05-07</th>\n",
       "      <td>0</td>\n",
       "      <td>24</td>\n",
       "      <td>False</td>\n",
       "    </tr>\n",
       "    <tr>\n",
       "      <th>2020-05-08</th>\n",
       "      <td>0</td>\n",
       "      <td>24</td>\n",
       "      <td>False</td>\n",
       "    </tr>\n",
       "  </tbody>\n",
       "</table>\n",
       "<p>129 rows × 3 columns</p>\n",
       "</div>"
      ],
      "text/plain": [
       "            Blockchain  coronavirus  isPartial\n",
       "date                                          \n",
       "2020-01-01           0            0      False\n",
       "2020-01-02           0            0      False\n",
       "2020-01-03           0            0      False\n",
       "2020-01-04           0            0      False\n",
       "2020-01-05           0            0      False\n",
       "...                ...          ...        ...\n",
       "2020-05-04           0           25      False\n",
       "2020-05-05           0           24      False\n",
       "2020-05-06           0           24      False\n",
       "2020-05-07           0           24      False\n",
       "2020-05-08           0           24      False\n",
       "\n",
       "[129 rows x 3 columns]"
      ]
     },
     "execution_count": 41,
     "metadata": {},
     "output_type": "execute_result"
    }
   ],
   "source": [
    "results = pytrend.interest_over_time()\n",
    "results"
   ]
  },
  {
   "cell_type": "code",
   "execution_count": 49,
   "metadata": {},
   "outputs": [
    {
     "data": {
      "image/png": "[encoded data removed]",
      "text/plain": [
       "<Figure size 1440x720 with 1 Axes>"
      ]
     },
     "metadata": {
      "needs_background": "light"
     },
     "output_type": "display_data"
    }
   ],
   "source": [
    "fig, ax = plt.subplots(figsize=(20, 10))\n",
    "plt.plot(results['coronavirus'])\n",
    "plt.show()"
   ]
  }
 ],
 "metadata": {
  "kernelspec": {
   "display_name": "Python 3",
   "language": "python",
   "name": "python3"
  },
  "language_info": {
   "codemirror_mode": {
    "name": "ipython",
    "version": 3
   },
   "file_extension": ".py",
   "mimetype": "text/x-python",
   "name": "python",
   "nbconvert_exporter": "python",
   "pygments_lexer": "ipython3",
   "version": "3.7.2"
  }
 },
 "nbformat": 4,
 "nbformat_minor": 4
}
